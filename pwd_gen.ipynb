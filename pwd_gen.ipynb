{
 "cells": [
  {
   "cell_type": "code",
   "execution_count": 20,
   "id": "b66b0324-729a-42d3-9d36-6c9272addccc",
   "metadata": {},
   "outputs": [
    {
     "name": "stdout",
     "output_type": "stream",
     "text": [
      "Password generator for user preferences\n"
     ]
    },
    {
     "name": "stdin",
     "output_type": "stream",
     "text": [
      "enter the size of password required :  10\n",
      "Include uppercase letters ? (yes/No)  yes\n",
      "Include special charecters  ? (yes/No)  yes\n",
      "Include digits ? (Yes/No)  yes\n"
     ]
    },
    {
     "name": "stdout",
     "output_type": "stream",
     "text": [
      "Upper case required  ABCDEFGHIJKLMNOPQRSTUVWXYZ\n",
      "Mandatory Required characters : ['O', \"'\", '3']\n",
      "Mandatory characters in password  ['O', \"'\", '3']\n",
      "final password  O'3:%bB:wf\n"
     ]
    }
   ],
   "source": [
    "# collect user preferences\n",
    "# - length\n",
    "# - should contain uppercase\n",
    "# - should contain special\n",
    "# - should contain digits\n",
    "\n",
    "# get all available characters\n",
    "# randomly pick characters up to the length\n",
    "# ensure we have at least one of each character type\n",
    "# ensure length is valid\n",
    "\n",
    "import random\n",
    "import string\n",
    "\n",
    "print ( \"Password generator for user preferences\")\n",
    "\n",
    "def gen_pwd():\n",
    "    length = int( input ( \"enter the size of password required : \").strip() )\n",
    "    include_uppercase = input ( \"Include uppercase letters ? (yes/No) \" ).strip()\n",
    "    include_special = input ( \"Include special charecters  ? (yes/No) \" ).strip()\n",
    "    include_digits = input ( \"Include digits ? (Yes/No) \" ).strip()\n",
    "\n",
    "    if length < 4 :\n",
    "        print ( \"Minimum length should be > 4 charachetr \")\n",
    "        return\n",
    "\n",
    "    lower = string.ascii_lowercase \n",
    "    upper = string.ascii_uppercase if include_uppercase.lower() == \"yes\"  else \"\"\n",
    "    print( \"Upper case required \" , upper) \n",
    "    special = string.punctuation if include_special ==\"yes\" or \"Yes\"  else \"\"\n",
    "    digits = string.digits if include_digits == \"yes\" or \"Yes\" else \"\"\n",
    "\n",
    "    all_characters = lower+upper+special+digits\n",
    "\n",
    "    # mandatory part of the password \n",
    "    required_characters = []\n",
    "    \n",
    "    if include_uppercase == \"yes\" :\n",
    "        required_characters.append(random.choice(upper))\n",
    "    if include_special == \"yes\" :\n",
    "        required_characters.append(random.choice(special))\n",
    "    if include_digits == \"yes\" :\n",
    "        required_characters.append(random.choice(digits))\n",
    "\n",
    "        print( \"Mandatory Required characters :\", required_characters )\n",
    "\n",
    "    pending_characters = length - len(required_characters )\n",
    "    password = required_characters\n",
    "    print( \"Mandatory characters in password \" ,password)\n",
    "\n",
    "    for _ in range( pending_characters ):\n",
    "        characters = random.choice( all_characters)\n",
    "        password.append(characters)\n",
    "\n",
    "    #random.shuffle(password) # will rearrange the string\n",
    "    #print( \"password is \", password )\n",
    "\n",
    "    str_password = \"\".join(password)\n",
    "    print ( \"final password \", str_password )\n",
    "    return str_password\n",
    "    \n",
    "passowd = gen_pwd()\n",
    "#print( passowd)"
   ]
  },
  {
   "cell_type": "code",
   "execution_count": null,
   "id": "a1d6fc31-957a-4427-8e68-f3d5c97b2c7e",
   "metadata": {},
   "outputs": [],
   "source": []
  }
 ],
 "metadata": {
  "kernelspec": {
   "display_name": "Python 3 (ipykernel)",
   "language": "python",
   "name": "python3"
  },
  "language_info": {
   "codemirror_mode": {
    "name": "ipython",
    "version": 3
   },
   "file_extension": ".py",
   "mimetype": "text/x-python",
   "name": "python",
   "nbconvert_exporter": "python",
   "pygments_lexer": "ipython3",
   "version": "3.13.2"
  }
 },
 "nbformat": 4,
 "nbformat_minor": 5
}
