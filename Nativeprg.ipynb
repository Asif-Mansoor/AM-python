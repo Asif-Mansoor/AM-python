{
 "cells": [
  {
   "cell_type": "code",
   "execution_count": 27,
   "id": "a44e340c-ca18-4434-9ce2-4d83c28561b2",
   "metadata": {},
   "outputs": [
    {
     "name": "stdout",
     "output_type": "stream",
     "text": [
      "1 What is the keyword to define a function in Python?\n"
     ]
    },
    {
     "name": "stdin",
     "output_type": "stream",
     "text": [
      " Please provide your answers  : def\n"
     ]
    },
    {
     "name": "stdout",
     "output_type": "stream",
     "text": [
      "Correct .. !!\n",
      "2 How do you start a for loop in Python?\n"
     ]
    },
    {
     "name": "stdin",
     "output_type": "stream",
     "text": [
      " Please provide your answers  : for\n"
     ]
    },
    {
     "name": "stdout",
     "output_type": "stream",
     "text": [
      "Correct .. !!\n",
      "3 Which data type is used to store True or False values?\n"
     ]
    },
    {
     "name": "stdin",
     "output_type": "stream",
     "text": [
      " Please provide your answers  : boolean\n"
     ]
    },
    {
     "name": "stdout",
     "output_type": "stream",
     "text": [
      "Correct .. !!\n",
      "4 What is the output of 2 ** 3 in Python?\n"
     ]
    },
    {
     "name": "stdin",
     "output_type": "stream",
     "text": [
      " Please provide your answers  : 16\n"
     ]
    },
    {
     "name": "stdout",
     "output_type": "stream",
     "text": [
      "WRONG Answer !!!!!!. The correct answere is :------->  8 \n",
      "\n",
      "5 What is the correct file extension for Python files?\n"
     ]
    },
    {
     "name": "stdin",
     "output_type": "stream",
     "text": [
      " Please provide your answers  : .py\n"
     ]
    },
    {
     "name": "stdout",
     "output_type": "stream",
     "text": [
      "Correct .. !!\n",
      "Done ! ur total score is 4/5  \n",
      " 80.00%\n"
     ]
    }
   ],
   "source": [
    "#list of questions\n",
    "# store the answers\n",
    "# randomly pick questions\n",
    "# ask the questions\n",
    "# see if they are correct\n",
    "# keep track of the score\n",
    "# tell the user their score\n",
    "\n",
    "import random\n",
    "\n",
    "questions = {\n",
    "    \"What is the keyword to define a function in Python?\": \"def\",\n",
    "    \"Which data type is used to store True or False values?\": \"boolean\" ,\n",
    "    \"What is the correct file extension for Python files?\": \".py\",\n",
    "    \"Which symbol is used to comment in Python?\": \"#\",\n",
    "    \"What function is used to get input from the user?\": \"input\",\n",
    "    \"How do you start a for loop in Python?\": \"for\",\n",
    "    \"What is the output of 2 ** 3 in Python?\": \"8\",\n",
    "    \"What keyword is used to import a module in Python?\": \"import\",\n",
    "    \"What does the len() function return?\": \"length\",\n",
    "    \"What is the result of 10 // 3 in Python?\": \"3\"\n",
    "}\n",
    "#print( \"list of questions \" , questions)\n",
    "\n",
    "def trivia_game():\n",
    "    questions_list =list(questions.keys())\n",
    "    no_of_questions = 5\n",
    "    score = 0\n",
    "\n",
    "    selected_questions= random.sample( questions_list , no_of_questions) \n",
    "\n",
    "    for  ind , quest in enumerate(selected_questions) :\n",
    "        print( f\"{ ind+1}\" ,quest  )\n",
    "\n",
    "        users_answers = input ( \" Please provide your answers  :\" ).lower().strip()\n",
    "        correct_answer = questions[quest]\n",
    "\n",
    "        if users_answers == correct_answer.lower():\n",
    "            print( \"Correct .. !!\") \n",
    "            score += 1\n",
    "        else :\n",
    "            print( f\"WRONG Answer !!!!!!. The correct answere is :------->  {correct_answer} \\n\" )\n",
    "\n",
    "    print( F\"Done ! ur total score is {score}/{no_of_questions}  \\n {score/no_of_questions *100:.2f}%\" )\n",
    "    \n",
    "    \n",
    "    \n",
    "# print ( \"List of Questions\", questions_list)\n",
    "#print ( \"selected Questions are :\" , selected_questions ) \n",
    "\n",
    "trivia_game()\n"
   ]
  },
  {
   "cell_type": "code",
   "execution_count": null,
   "id": "fc615514-7f91-44b0-aded-5ce3b4bce82f",
   "metadata": {},
   "outputs": [],
   "source": []
  },
  {
   "cell_type": "code",
   "execution_count": null,
   "id": "91c6f8f1-4e9e-4e70-b2fe-f1628647de2a",
   "metadata": {},
   "outputs": [],
   "source": []
  }
 ],
 "metadata": {
  "kernelspec": {
   "display_name": "Python 3 (ipykernel)",
   "language": "python",
   "name": "python3"
  },
  "language_info": {
   "codemirror_mode": {
    "name": "ipython",
    "version": 3
   },
   "file_extension": ".py",
   "mimetype": "text/x-python",
   "name": "python",
   "nbconvert_exporter": "python",
   "pygments_lexer": "ipython3",
   "version": "3.13.2"
  }
 },
 "nbformat": 4,
 "nbformat_minor": 5
}
